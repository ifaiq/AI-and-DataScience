{
 "cells": [
  {
   "cell_type": "code",
   "execution_count": 8,
   "metadata": {},
   "outputs": [
    {
     "name": "stdout",
     "output_type": "stream",
     "text": [
      "hello\n",
      "\n",
      "list index out of range\n",
      "Final\n"
     ]
    }
   ],
   "source": [
    "print(\"hello\")\n",
    "print(\"\")\n",
    "a = 5\n",
    "b = 6\n",
    "d =[]\n",
    "try:\n",
    "    c =a/b\n",
    "    e = d[5]\n",
    "    print(e)\n",
    "except Exception as t:\n",
    "    print(t)\n",
    "else:\n",
    "    print(c)\n",
    "finally:\n",
    "    print(\"Final\")"
   ]
  },
  {
   "cell_type": "code",
   "execution_count": 10,
   "metadata": {},
   "outputs": [],
   "source": [
    "class Stu():\n",
    "    def __init__(self, name, age):\n",
    "        if age > 80 or age < 16:\n",
    "            raise exception(\"Invalid Age\")\n",
    "        self.name = name\n",
    "        self.age = age\n",
    "        "
   ]
  },
  {
   "cell_type": "code",
   "execution_count": 12,
   "metadata": {},
   "outputs": [],
   "source": [
    "st = Stu(\"faiq\", 22)"
   ]
  },
  {
   "cell_type": "code",
   "execution_count": 14,
   "metadata": {},
   "outputs": [
    {
     "data": {
      "text/plain": [
       "22"
      ]
     },
     "execution_count": 14,
     "metadata": {},
     "output_type": "execute_result"
    }
   ],
   "source": [
    "st.age"
   ]
  },
  {
   "cell_type": "code",
   "execution_count": 24,
   "metadata": {},
   "outputs": [
    {
     "name": "stdout",
     "output_type": "stream",
     "text": [
      "We are not what we should be \n",
      "\n",
      " We are not what we need to be \n",
      "\n",
      " But at least we are not what we used to be -- Football Coach\n"
     ]
    }
   ],
   "source": [
    "with open('small.txt') as e:\n",
    "    for line in e:\n",
    "        print(line)"
   ]
  },
  {
   "cell_type": "code",
   "execution_count": 28,
   "metadata": {},
   "outputs": [
    {
     "name": "stdout",
     "output_type": "stream",
     "text": [
      "['We are not what we should be \\n', ' We are not what we need to be \\n', ' But at least we are not what we used to be -- Football Coach']\n"
     ]
    }
   ],
   "source": [
    "with open('small.txt','r+') as e:\n",
    "    e.write(\"We are not what we should be \\n We are not what we need to be \\n But at least we are not what we used to be -- Football Coach\")\n",
    "    e.seek(0)\n",
    "    c= e.readlines()\n",
    "    print(c)"
   ]
  },
  {
   "cell_type": "code",
   "execution_count": null,
   "metadata": {},
   "outputs": [],
   "source": []
  }
 ],
 "metadata": {
  "kernelspec": {
   "display_name": "Python 3",
   "language": "python",
   "name": "python3"
  },
  "language_info": {
   "codemirror_mode": {
    "name": "ipython",
    "version": 3
   },
   "file_extension": ".py",
   "mimetype": "text/x-python",
   "name": "python",
   "nbconvert_exporter": "python",
   "pygments_lexer": "ipython3",
   "version": "3.6.5"
  }
 },
 "nbformat": 4,
 "nbformat_minor": 2
}
