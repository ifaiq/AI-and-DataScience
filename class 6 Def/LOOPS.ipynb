{
 "cells": [
  {
   "cell_type": "markdown",
   "metadata": {},
   "source": [
    "-For\n",
    "-While\n",
    "-do While"
   ]
  },
  {
   "cell_type": "code",
   "execution_count": 2,
   "metadata": {},
   "outputs": [
    {
     "name": "stdout",
     "output_type": "stream",
     "text": [
      "1\n",
      "0\n",
      "3\n",
      "1\n",
      "9\n",
      "4\n",
      "27\n",
      "9\n",
      "81\n",
      "16\n",
      "243\n",
      "25\n",
      "729\n",
      "36\n",
      "2187\n",
      "49\n",
      "6561\n",
      "64\n",
      "19683\n",
      "81\n",
      "59049\n",
      "100\n"
     ]
    }
   ],
   "source": [
    "i=0\n",
    "while(i<=10):\n",
    "    print(3**i)\n",
    "    print(i*i)\n",
    "    i=i+1"
   ]
  },
  {
   "cell_type": "code",
   "execution_count": 10,
   "metadata": {},
   "outputs": [
    {
     "name": "stdout",
     "output_type": "stream",
     "text": [
      "1\n",
      "1\n",
      "1\n",
      "3\n",
      "1\n",
      "1\n",
      "4\n",
      "1\n",
      "4\n",
      "16\n",
      "1\n",
      "1\n",
      "5\n",
      "1\n",
      "5\n",
      "25\n",
      "1\n",
      "5\n",
      "25\n",
      "125\n",
      "1\n",
      "1\n",
      "6\n",
      "1\n",
      "6\n",
      "36\n",
      "1\n",
      "6\n",
      "36\n",
      "216\n",
      "1\n",
      "6\n",
      "36\n",
      "216\n",
      "1296\n",
      "1\n",
      "1\n",
      "7\n",
      "1\n",
      "7\n",
      "49\n",
      "1\n",
      "7\n",
      "49\n",
      "343\n",
      "1\n",
      "7\n",
      "49\n",
      "343\n",
      "2401\n",
      "1\n",
      "7\n",
      "49\n",
      "343\n",
      "2401\n",
      "16807\n",
      "1\n",
      "1\n",
      "8\n",
      "1\n",
      "8\n",
      "64\n",
      "1\n",
      "8\n",
      "64\n",
      "512\n",
      "1\n",
      "8\n",
      "64\n",
      "512\n",
      "4096\n",
      "1\n",
      "8\n",
      "64\n",
      "512\n",
      "4096\n",
      "32768\n",
      "1\n",
      "8\n",
      "64\n",
      "512\n",
      "4096\n",
      "32768\n",
      "262144\n",
      "1\n",
      "1\n",
      "9\n",
      "1\n",
      "9\n",
      "81\n",
      "1\n",
      "9\n",
      "81\n",
      "729\n",
      "1\n",
      "9\n",
      "81\n",
      "729\n",
      "6561\n",
      "1\n",
      "9\n",
      "81\n",
      "729\n",
      "6561\n",
      "59049\n",
      "1\n",
      "9\n",
      "81\n",
      "729\n",
      "6561\n",
      "59049\n",
      "531441\n",
      "1\n",
      "9\n",
      "81\n",
      "729\n",
      "6561\n",
      "59049\n",
      "531441\n",
      "4782969\n"
     ]
    }
   ],
   "source": [
    "for i in list(range(10)):\n",
    "    for j in list(range(i)):\n",
    "            for k in list(range(j)):\n",
    "                print(i**k)"
   ]
  },
  {
   "cell_type": "code",
   "execution_count": 14,
   "metadata": {},
   "outputs": [
    {
     "ename": "SyntaxError",
     "evalue": "invalid syntax (<ipython-input-14-b80c540ccf61>, line 3)",
     "output_type": "error",
     "traceback": [
      "\u001b[1;36m  File \u001b[1;32m\"<ipython-input-14-b80c540ccf61>\"\u001b[1;36m, line \u001b[1;32m3\u001b[0m\n\u001b[1;33m    while(x =! faiq):\u001b[0m\n\u001b[1;37m            ^\u001b[0m\n\u001b[1;31mSyntaxError\u001b[0m\u001b[1;31m:\u001b[0m invalid syntax\n"
     ]
    }
   ],
   "source": [
    "names=[]\n",
    "x = input(\"Enter \")\n",
    "while(x != faiq):\n",
    "    x = input(\"Enter \")\n",
    "    "
   ]
  },
  {
   "cell_type": "code",
   "execution_count": null,
   "metadata": {},
   "outputs": [],
   "source": []
  }
 ],
 "metadata": {
  "kernelspec": {
   "display_name": "Python 3",
   "language": "python",
   "name": "python3"
  },
  "language_info": {
   "codemirror_mode": {
    "name": "ipython",
    "version": 3
   },
   "file_extension": ".py",
   "mimetype": "text/x-python",
   "name": "python",
   "nbconvert_exporter": "python",
   "pygments_lexer": "ipython3",
   "version": "3.6.5"
  }
 },
 "nbformat": 4,
 "nbformat_minor": 2
}
