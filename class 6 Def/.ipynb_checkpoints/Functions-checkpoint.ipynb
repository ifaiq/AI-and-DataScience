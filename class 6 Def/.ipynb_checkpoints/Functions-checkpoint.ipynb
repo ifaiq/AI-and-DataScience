{
 "cells": [
  {
   "cell_type": "markdown",
   "metadata": {},
   "source": [
    "#Function\n",
    "\n",
    "Pre-defined\n",
    "User Defined\n",
    "\n",
    "Loops:\n",
    "for\n",
    "while\n",
    "do-while"
   ]
  },
  {
   "cell_type": "code",
   "execution_count": 11,
   "metadata": {},
   "outputs": [],
   "source": [
    "var = \"Engr. \"#global variabl\n",
    "\n",
    "def myInfo():\n",
    "    # variable is local can only be called within fun \n",
    "    f=\"Faiq Ahmed Shariff\"\n",
    "    print(var+f)"
   ]
  },
  {
   "cell_type": "code",
   "execution_count": 12,
   "metadata": {},
   "outputs": [
    {
     "name": "stdout",
     "output_type": "stream",
     "text": [
      "Engr. Faiq Ahmed Shariff\n"
     ]
    }
   ],
   "source": [
    "myInfo()"
   ]
  },
  {
   "cell_type": "code",
   "execution_count": 18,
   "metadata": {},
   "outputs": [],
   "source": [
    "def fullName(fName, lName):#argument\n",
    "    print(fName+\" \"+lName)"
   ]
  },
  {
   "cell_type": "code",
   "execution_count": 19,
   "metadata": {},
   "outputs": [
    {
     "name": "stdout",
     "output_type": "stream",
     "text": [
      "Faiq Shariff\n"
     ]
    }
   ],
   "source": [
    "fullName(\"Faiq\", \"Shariff\")#parameter"
   ]
  },
  {
   "cell_type": "code",
   "execution_count": 27,
   "metadata": {},
   "outputs": [],
   "source": [
    "def fullName(fName, lName, contact = \"non\"):#argument\n",
    "    return \"FullName: \"+fName+\"  \"+lName+ \" Contact \"+ contact"
   ]
  },
  {
   "cell_type": "code",
   "execution_count": 28,
   "metadata": {},
   "outputs": [
    {
     "name": "stdout",
     "output_type": "stream",
     "text": [
      "FullName: faiq  shariff  Contact 3324234234\n"
     ]
    }
   ],
   "source": [
    "print(fullName(\"faiq\", \"shariff \", \"3324234234\"))"
   ]
  },
  {
   "cell_type": "markdown",
   "metadata": {},
   "source": [
    "### provide arg value with list"
   ]
  },
  {
   "cell_type": "code",
   "execution_count": 34,
   "metadata": {},
   "outputs": [
    {
     "name": "stdout",
     "output_type": "stream",
     "text": [
      "FullName: Faiq  Sharff Contact 323234232\n"
     ]
    }
   ],
   "source": [
    "abc=[\"Faiq\", \"Sharff\", \"323234232\"]\n",
    "\n",
    "print(fullName(*abc))"
   ]
  },
  {
   "cell_type": "code",
   "execution_count": 36,
   "metadata": {},
   "outputs": [
    {
     "name": "stdout",
     "output_type": "stream",
     "text": [
      "FullName: Faiq  Sharff Contact 323234232\n"
     ]
    }
   ],
   "source": [
    "abcd={\"fName\":\"Faiq\",\"lName\": \"Sharff\",\"contact\": \"323234232\"}\n",
    "print(fullName(**abcd))"
   ]
  },
  {
   "cell_type": "code",
   "execution_count": null,
   "metadata": {},
   "outputs": [],
   "source": []
  }
 ],
 "metadata": {
  "kernelspec": {
   "display_name": "Python 3",
   "language": "python",
   "name": "python3"
  },
  "language_info": {
   "codemirror_mode": {
    "name": "ipython",
    "version": 3
   },
   "file_extension": ".py",
   "mimetype": "text/x-python",
   "name": "python",
   "nbconvert_exporter": "python",
   "pygments_lexer": "ipython3",
   "version": "3.6.5"
  }
 },
 "nbformat": 4,
 "nbformat_minor": 2
}
