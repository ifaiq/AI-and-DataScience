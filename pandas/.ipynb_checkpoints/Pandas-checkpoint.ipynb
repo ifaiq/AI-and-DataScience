{
 "cells": [
  {
   "cell_type": "code",
   "execution_count": 1,
   "metadata": {},
   "outputs": [],
   "source": [
    "import pandas as pd"
   ]
  },
  {
   "cell_type": "code",
   "execution_count": 2,
   "metadata": {},
   "outputs": [],
   "source": [
    "from pandas import Series, DataFrame"
   ]
  },
  {
   "cell_type": "code",
   "execution_count": 13,
   "metadata": {},
   "outputs": [],
   "source": [
    "s= Series([1,2,3,4,5,6],index =['a','b','c','d','e','f'])"
   ]
  },
  {
   "cell_type": "code",
   "execution_count": 14,
   "metadata": {},
   "outputs": [
    {
     "data": {
      "text/plain": [
       "a    1\n",
       "b    2\n",
       "c    3\n",
       "d    4\n",
       "e    5\n",
       "f    6\n",
       "dtype: int64"
      ]
     },
     "execution_count": 14,
     "metadata": {},
     "output_type": "execute_result"
    }
   ],
   "source": [
    "s"
   ]
  },
  {
   "cell_type": "code",
   "execution_count": 15,
   "metadata": {},
   "outputs": [
    {
     "data": {
      "text/plain": [
       "array([1, 2, 3, 4, 5, 6], dtype=int64)"
      ]
     },
     "execution_count": 15,
     "metadata": {},
     "output_type": "execute_result"
    }
   ],
   "source": [
    "s.values"
   ]
  },
  {
   "cell_type": "code",
   "execution_count": 16,
   "metadata": {},
   "outputs": [
    {
     "data": {
      "text/plain": [
       "Index(['a', 'b', 'c', 'd', 'e', 'f'], dtype='object')"
      ]
     },
     "execution_count": 16,
     "metadata": {},
     "output_type": "execute_result"
    }
   ],
   "source": [
    "s.index"
   ]
  },
  {
   "cell_type": "code",
   "execution_count": 19,
   "metadata": {},
   "outputs": [
    {
     "data": {
      "text/plain": [
       "6"
      ]
     },
     "execution_count": 19,
     "metadata": {},
     "output_type": "execute_result"
    }
   ],
   "source": [
    "s['f']"
   ]
  },
  {
   "cell_type": "code",
   "execution_count": 26,
   "metadata": {},
   "outputs": [],
   "source": [
    "date = pd.date_range('2018-09-01','2018-11-01')"
   ]
  },
  {
   "cell_type": "code",
   "execution_count": 27,
   "metadata": {},
   "outputs": [
    {
     "data": {
      "text/plain": [
       "DatetimeIndex(['2018-09-01', '2018-09-02', '2018-09-03', '2018-09-04',\n",
       "               '2018-09-05', '2018-09-06', '2018-09-07', '2018-09-08',\n",
       "               '2018-09-09', '2018-09-10', '2018-09-11', '2018-09-12',\n",
       "               '2018-09-13', '2018-09-14', '2018-09-15', '2018-09-16',\n",
       "               '2018-09-17', '2018-09-18', '2018-09-19', '2018-09-20',\n",
       "               '2018-09-21', '2018-09-22', '2018-09-23', '2018-09-24',\n",
       "               '2018-09-25', '2018-09-26', '2018-09-27', '2018-09-28',\n",
       "               '2018-09-29', '2018-09-30', '2018-10-01', '2018-10-02',\n",
       "               '2018-10-03', '2018-10-04', '2018-10-05', '2018-10-06',\n",
       "               '2018-10-07', '2018-10-08', '2018-10-09', '2018-10-10',\n",
       "               '2018-10-11', '2018-10-12', '2018-10-13', '2018-10-14',\n",
       "               '2018-10-15', '2018-10-16', '2018-10-17', '2018-10-18',\n",
       "               '2018-10-19', '2018-10-20', '2018-10-21', '2018-10-22',\n",
       "               '2018-10-23', '2018-10-24', '2018-10-25', '2018-10-26',\n",
       "               '2018-10-27', '2018-10-28', '2018-10-29', '2018-10-30',\n",
       "               '2018-10-31', '2018-11-01'],\n",
       "              dtype='datetime64[ns]', freq='D')"
      ]
     },
     "execution_count": 27,
     "metadata": {},
     "output_type": "execute_result"
    }
   ],
   "source": [
    "date"
   ]
  },
  {
   "cell_type": "code",
   "execution_count": 31,
   "metadata": {},
   "outputs": [],
   "source": [
    "b2 =Series(date.values, index = date)"
   ]
  },
  {
   "cell_type": "code",
   "execution_count": 32,
   "metadata": {},
   "outputs": [
    {
     "data": {
      "text/plain": [
       "2018-09-01   2018-09-01\n",
       "2018-09-02   2018-09-02\n",
       "2018-09-03   2018-09-03\n",
       "2018-09-04   2018-09-04\n",
       "2018-09-05   2018-09-05\n",
       "2018-09-06   2018-09-06\n",
       "2018-09-07   2018-09-07\n",
       "2018-09-08   2018-09-08\n",
       "2018-09-09   2018-09-09\n",
       "2018-09-10   2018-09-10\n",
       "2018-09-11   2018-09-11\n",
       "2018-09-12   2018-09-12\n",
       "2018-09-13   2018-09-13\n",
       "2018-09-14   2018-09-14\n",
       "2018-09-15   2018-09-15\n",
       "2018-09-16   2018-09-16\n",
       "2018-09-17   2018-09-17\n",
       "2018-09-18   2018-09-18\n",
       "2018-09-19   2018-09-19\n",
       "2018-09-20   2018-09-20\n",
       "2018-09-21   2018-09-21\n",
       "2018-09-22   2018-09-22\n",
       "2018-09-23   2018-09-23\n",
       "2018-09-24   2018-09-24\n",
       "2018-09-25   2018-09-25\n",
       "2018-09-26   2018-09-26\n",
       "2018-09-27   2018-09-27\n",
       "2018-09-28   2018-09-28\n",
       "2018-09-29   2018-09-29\n",
       "2018-09-30   2018-09-30\n",
       "                ...    \n",
       "2018-10-03   2018-10-03\n",
       "2018-10-04   2018-10-04\n",
       "2018-10-05   2018-10-05\n",
       "2018-10-06   2018-10-06\n",
       "2018-10-07   2018-10-07\n",
       "2018-10-08   2018-10-08\n",
       "2018-10-09   2018-10-09\n",
       "2018-10-10   2018-10-10\n",
       "2018-10-11   2018-10-11\n",
       "2018-10-12   2018-10-12\n",
       "2018-10-13   2018-10-13\n",
       "2018-10-14   2018-10-14\n",
       "2018-10-15   2018-10-15\n",
       "2018-10-16   2018-10-16\n",
       "2018-10-17   2018-10-17\n",
       "2018-10-18   2018-10-18\n",
       "2018-10-19   2018-10-19\n",
       "2018-10-20   2018-10-20\n",
       "2018-10-21   2018-10-21\n",
       "2018-10-22   2018-10-22\n",
       "2018-10-23   2018-10-23\n",
       "2018-10-24   2018-10-24\n",
       "2018-10-25   2018-10-25\n",
       "2018-10-26   2018-10-26\n",
       "2018-10-27   2018-10-27\n",
       "2018-10-28   2018-10-28\n",
       "2018-10-29   2018-10-29\n",
       "2018-10-30   2018-10-30\n",
       "2018-10-31   2018-10-31\n",
       "2018-11-01   2018-11-01\n",
       "Freq: D, Length: 62, dtype: datetime64[ns]"
      ]
     },
     "execution_count": 32,
     "metadata": {},
     "output_type": "execute_result"
    }
   ],
   "source": [
    "b2"
   ]
  },
  {
   "cell_type": "code",
   "execution_count": 33,
   "metadata": {},
   "outputs": [],
   "source": [
    "data = {'state': ['Ohio', 'Ohio', 'Ohio', 'Nevada', 'Nevada', 'Nevada'],        'year': [2000, 2001, 2002, 2001, 2002, 2003],        'pop': [1.5, 1.7, 3.6, 2.4, 2.9, 3.2]} "
   ]
  },
  {
   "cell_type": "code",
   "execution_count": 34,
   "metadata": {},
   "outputs": [],
   "source": [
    "frame = pd.DataFrame(data)"
   ]
  },
  {
   "cell_type": "code",
   "execution_count": 36,
   "metadata": {},
   "outputs": [
    {
     "data": {
      "text/html": [
       "<div>\n",
       "<style scoped>\n",
       "    .dataframe tbody tr th:only-of-type {\n",
       "        vertical-align: middle;\n",
       "    }\n",
       "\n",
       "    .dataframe tbody tr th {\n",
       "        vertical-align: top;\n",
       "    }\n",
       "\n",
       "    .dataframe thead th {\n",
       "        text-align: right;\n",
       "    }\n",
       "</style>\n",
       "<table border=\"1\" class=\"dataframe\">\n",
       "  <thead>\n",
       "    <tr style=\"text-align: right;\">\n",
       "      <th></th>\n",
       "      <th>state</th>\n",
       "      <th>year</th>\n",
       "      <th>pop</th>\n",
       "    </tr>\n",
       "  </thead>\n",
       "  <tbody>\n",
       "    <tr>\n",
       "      <th>0</th>\n",
       "      <td>Ohio</td>\n",
       "      <td>2000</td>\n",
       "      <td>1.5</td>\n",
       "    </tr>\n",
       "    <tr>\n",
       "      <th>1</th>\n",
       "      <td>Ohio</td>\n",
       "      <td>2001</td>\n",
       "      <td>1.7</td>\n",
       "    </tr>\n",
       "    <tr>\n",
       "      <th>2</th>\n",
       "      <td>Ohio</td>\n",
       "      <td>2002</td>\n",
       "      <td>3.6</td>\n",
       "    </tr>\n",
       "    <tr>\n",
       "      <th>3</th>\n",
       "      <td>Nevada</td>\n",
       "      <td>2001</td>\n",
       "      <td>2.4</td>\n",
       "    </tr>\n",
       "    <tr>\n",
       "      <th>4</th>\n",
       "      <td>Nevada</td>\n",
       "      <td>2002</td>\n",
       "      <td>2.9</td>\n",
       "    </tr>\n",
       "    <tr>\n",
       "      <th>5</th>\n",
       "      <td>Nevada</td>\n",
       "      <td>2003</td>\n",
       "      <td>3.2</td>\n",
       "    </tr>\n",
       "  </tbody>\n",
       "</table>\n",
       "</div>"
      ],
      "text/plain": [
       "    state  year  pop\n",
       "0    Ohio  2000  1.5\n",
       "1    Ohio  2001  1.7\n",
       "2    Ohio  2002  3.6\n",
       "3  Nevada  2001  2.4\n",
       "4  Nevada  2002  2.9\n",
       "5  Nevada  2003  3.2"
      ]
     },
     "execution_count": 36,
     "metadata": {},
     "output_type": "execute_result"
    }
   ],
   "source": [
    "frame"
   ]
  },
  {
   "cell_type": "code",
   "execution_count": null,
   "metadata": {},
   "outputs": [],
   "source": []
  }
 ],
 "metadata": {
  "kernelspec": {
   "display_name": "Python 3",
   "language": "python",
   "name": "python3"
  },
  "language_info": {
   "codemirror_mode": {
    "name": "ipython",
    "version": 3
   },
   "file_extension": ".py",
   "mimetype": "text/x-python",
   "name": "python",
   "nbconvert_exporter": "python",
   "pygments_lexer": "ipython3",
   "version": "3.6.5"
  }
 },
 "nbformat": 4,
 "nbformat_minor": 2
}
